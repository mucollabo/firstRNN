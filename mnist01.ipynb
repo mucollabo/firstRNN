{
  "nbformat": 4,
  "nbformat_minor": 0,
  "metadata": {
    "colab": {
      "name": "mnist01.ipynb",
      "provenance": [],
      "mount_file_id": "1C8bt1-NXSqT1N7Q5zedOD77Yuh0q9bZr",
      "authorship_tag": "ABX9TyOxZ1ghpwKbLfgqhFjKh9Ek",
      "include_colab_link": true
    },
    "kernelspec": {
      "name": "python3",
      "display_name": "Python 3"
    },
    "language_info": {
      "name": "python"
    }
  },
  "cells": [
    {
      "cell_type": "markdown",
      "metadata": {
        "id": "view-in-github",
        "colab_type": "text"
      },
      "source": [
        "<a href=\"https://colab.research.google.com/github/mucollabo/firstRNN/blob/main/mnist01.ipynb\" target=\"_parent\"><img src=\"https://colab.research.google.com/assets/colab-badge.svg\" alt=\"Open In Colab\"/></a>"
      ]
    },
    {
      "cell_type": "code",
      "execution_count": 4,
      "metadata": {
        "id": "TFfKyNR6QLbQ"
      },
      "outputs": [],
      "source": [
        "data_file = open('/content/drive/MyDrive/ColabNotebooks/firstRNN/mnist_dataset/mnist_train_100.csv', 'r')\n",
        "data_list = data_file.readlines()\n",
        "data_file.close()"
      ]
    },
    {
      "cell_type": "code",
      "source": [
        "len(data_list)"
      ],
      "metadata": {
        "colab": {
          "base_uri": "https://localhost:8080/"
        },
        "id": "1WxJBKB-R-pS",
        "outputId": "ee7fe0f8-7dd3-493a-8b65-557fb995ee8b"
      },
      "execution_count": 5,
      "outputs": [
        {
          "output_type": "execute_result",
          "data": {
            "text/plain": [
              "100"
            ]
          },
          "metadata": {},
          "execution_count": 5
        }
      ]
    },
    {
      "cell_type": "code",
      "source": [
        "data_list[0]"
      ],
      "metadata": {
        "colab": {
          "base_uri": "https://localhost:8080/",
          "height": 106
        },
        "id": "JmcefRqwSCzw",
        "outputId": "4140f0e8-9d64-40ce-d2bb-94ce6498e095"
      },
      "execution_count": 6,
      "outputs": [
        {
          "output_type": "execute_result",
          "data": {
            "text/plain": [
              "'5,0,0,0,0,0,0,0,0,0,0,0,0,0,0,0,0,0,0,0,0,0,0,0,0,0,0,0,0,0,0,0,0,0,0,0,0,0,0,0,0,0,0,0,0,0,0,0,0,0,0,0,0,0,0,0,0,0,0,0,0,0,0,0,0,0,0,0,0,0,0,0,0,0,0,0,0,0,0,0,0,0,0,0,0,0,0,0,0,0,0,0,0,0,0,0,0,0,0,0,0,0,0,0,0,0,0,0,0,0,0,0,0,0,0,0,0,0,0,0,0,0,0,0,0,0,0,0,0,0,0,0,0,0,0,0,0,0,0,0,0,0,0,0,0,0,0,0,0,0,0,0,0,3,18,18,18,126,136,175,26,166,255,247,127,0,0,0,0,0,0,0,0,0,0,0,0,30,36,94,154,170,253,253,253,253,253,225,172,253,242,195,64,0,0,0,0,0,0,0,0,0,0,0,49,238,253,253,253,253,253,253,253,253,251,93,82,82,56,39,0,0,0,0,0,0,0,0,0,0,0,0,18,219,253,253,253,253,253,198,182,247,241,0,0,0,0,0,0,0,0,0,0,0,0,0,0,0,0,0,0,80,156,107,253,253,205,11,0,43,154,0,0,0,0,0,0,0,0,0,0,0,0,0,0,0,0,0,0,0,14,1,154,253,90,0,0,0,0,0,0,0,0,0,0,0,0,0,0,0,0,0,0,0,0,0,0,0,0,0,139,253,190,2,0,0,0,0,0,0,0,0,0,0,0,0,0,0,0,0,0,0,0,0,0,0,0,0,11,190,253,70,0,0,0,0,0,0,0,0,0,0,0,0,0,0,0,0,0,0,0,0,0,0,0,0,0,35,241,225,160,108,1,0,0,0,0,0,0,0,0,0,0,0,0,0,0,0,0,0,0,0,0,0,0,0,81,240,253,253,119,25,0,0,0,0,0,0,0,0,0,0,0,0,0,0,0,0,0,0,0,0,0,0,0,45,186,253,253,150,27,0,0,0,0,0,0,0,0,0,0,0,0,0,0,0,0,0,0,0,0,0,0,0,16,93,252,253,187,0,0,0,0,0,0,0,0,0,0,0,0,0,0,0,0,0,0,0,0,0,0,0,0,0,249,253,249,64,0,0,0,0,0,0,0,0,0,0,0,0,0,0,0,0,0,0,0,0,0,46,130,183,253,253,207,2,0,0,0,0,0,0,0,0,0,0,0,0,0,0,0,0,0,0,0,39,148,229,253,253,253,250,182,0,0,0,0,0,0,0,0,0,0,0,0,0,0,0,0,0,0,24,114,221,253,253,253,253,201,78,0,0,0,0,0,0,0,0,0,0,0,0,0,0,0,0,0,23,66,213,253,253,253,253,198,81,2,0,0,0,0,0,0,0,0,0,0,0,0,0,0,0,0,18,171,219,253,253,253,253,195,80,9,0,0,0,0,0,0,0,0,0,0,0,0,0,0,0,0,55,172,226,253,253,253,253,244,133,11,0,0,0,0,0,0,0,0,0,0,0,0,0,0,0,0,0,0,136,253,253,253,212,135,132,16,0,0,0,0,0,0,0,0,0,0,0,0,0,0,0,0,0,0,0,0,0,0,0,0,0,0,0,0,0,0,0,0,0,0,0,0,0,0,0,0,0,0,0,0,0,0,0,0,0,0,0,0,0,0,0,0,0,0,0,0,0,0,0,0,0,0,0,0,0,0,0,0,0,0,0,0,0,0,0,0,0,0,0,0,0,0,0,0,0,0,0,0,0,0,0,0,0,0,0,0\\n'"
            ],
            "application/vnd.google.colaboratory.intrinsic+json": {
              "type": "string"
            }
          },
          "metadata": {},
          "execution_count": 6
        }
      ]
    },
    {
      "cell_type": "code",
      "source": [
        "import numpy as np\n",
        "import scipy.special\n",
        "import matplotlib.pyplot as plt\n",
        "%matplotlib inline\n",
        "all_values = data_list[0].split(',')\n",
        "image_array = np.asfarray(all_values[1:]).reshape((28, 28))\n",
        "plt.imshow(image_array, cmap='Greys', interpolation='None')"
      ],
      "metadata": {
        "colab": {
          "base_uri": "https://localhost:8080/",
          "height": 282
        },
        "id": "fh270Xr6SaRy",
        "outputId": "25091b3c-4c2f-45b5-c1c1-81f68de1fea2"
      },
      "execution_count": 16,
      "outputs": [
        {
          "output_type": "execute_result",
          "data": {
            "text/plain": [
              "<matplotlib.image.AxesImage at 0x7f2a23bb0910>"
            ]
          },
          "metadata": {},
          "execution_count": 16
        },
        {
          "output_type": "display_data",
          "data": {
            "text/plain": [
              "<Figure size 432x288 with 1 Axes>"
            ],
            "image/png": "[encoded data removed]"
          },
          "metadata": {
            "needs_background": "light"
          }
        }
      ]
    },
    {
      "cell_type": "code",
      "source": [
        "# '0'의 레이블을 가지는 레코드인 data_list[1] 확인\n",
        "all_values = data_list[1].split(',')\n",
        "image_array = np.asfarray(all_values[1:]).reshape((28, 28))\n",
        "plt.imshow(image_array, cmap='Greys', interpolation='None')"
      ],
      "metadata": {
        "colab": {
          "base_uri": "https://localhost:8080/",
          "height": 282
        },
        "id": "ZiwsYcnxTxqP",
        "outputId": "ee92d103-b476-41ea-b9e1-7ecdb89f5f27"
      },
      "execution_count": 17,
      "outputs": [
        {
          "output_type": "execute_result",
          "data": {
            "text/plain": [
              "<matplotlib.image.AxesImage at 0x7f2a23b9fb90>"
            ]
          },
          "metadata": {},
          "execution_count": 17
        },
        {
          "output_type": "display_data",
          "data": {
            "text/plain": [
              "<Figure size 432x288 with 1 Axes>"
            ],
            "image/png": "[encoded data removed]"
          },
          "metadata": {
            "needs_background": "light"
          }
        }
      ]
    },
    {
      "cell_type": "code",
      "source": [
        "scaled_input = (np.asfarray(all_values[1:]) / 255.0 * 0.99) + 0.01\n",
        "print(scaled_input)"
      ],
      "metadata": {
        "colab": {
          "base_uri": "https://localhost:8080/"
        },
        "id": "ioBPoAJ2UCOh",
        "outputId": "675785f2-53a4-4c3f-fc1e-9bfd4369563b"
      },
      "execution_count": 18,
      "outputs": [
        {
          "output_type": "stream",
          "name": "stdout",
          "text": [
            "[0.01       0.01       0.01       0.01       0.01       0.01\n",
            " 0.01       0.01       0.01       0.01       0.01       0.01\n",
            " 0.01       0.01       0.01       0.01       0.01       0.01\n",
            " 0.01       0.01       0.01       0.01       0.01       0.01\n",
            " 0.01       0.01       0.01       0.01       0.01       0.01\n",
            " 0.01       0.01       0.01       0.01       0.01       0.01\n",
            " 0.01       0.01       0.01       0.01       0.01       0.01\n",
            " 0.01       0.01       0.01       0.01       0.01       0.01\n",
            " 0.01       0.01       0.01       0.01       0.01       0.01\n",
            " 0.01       0.01       0.01       0.01       0.01       0.01\n",
            " 0.01       0.01       0.01       0.01       0.01       0.01\n",
            " 0.01       0.01       0.01       0.01       0.01       0.01\n",
            " 0.01       0.01       0.01       0.01       0.01       0.01\n",
            " 0.01       0.01       0.01       0.01       0.01       0.01\n",
            " 0.01       0.01       0.01       0.01       0.01       0.01\n",
            " 0.01       0.01       0.01       0.01       0.01       0.01\n",
            " 0.01       0.01       0.01       0.01       0.01       0.01\n",
            " 0.01       0.01       0.01       0.01       0.01       0.01\n",
            " 0.01       0.01       0.01       0.01       0.01       0.01\n",
            " 0.01       0.01       0.01       0.01       0.01       0.01\n",
            " 0.01       0.01       0.01       0.01       0.01       0.01\n",
            " 0.01       0.208      0.62729412 0.99223529 0.62729412 0.20411765\n",
            " 0.01       0.01       0.01       0.01       0.01       0.01\n",
            " 0.01       0.01       0.01       0.01       0.01       0.01\n",
            " 0.01       0.01       0.01       0.01       0.01       0.01\n",
            " 0.01       0.01       0.01       0.01       0.19635294 0.934\n",
            " 0.98835294 0.98835294 0.98835294 0.93011765 0.01       0.01\n",
            " 0.01       0.01       0.01       0.01       0.01       0.01\n",
            " 0.01       0.01       0.01       0.01       0.01       0.01\n",
            " 0.01       0.01       0.01       0.01       0.01       0.01\n",
            " 0.01       0.21964706 0.89129412 0.99223529 0.98835294 0.93788235\n",
            " 0.91458824 0.98835294 0.23129412 0.03329412 0.01       0.01\n",
            " 0.01       0.01       0.01       0.01       0.01       0.01\n",
            " 0.01       0.01       0.01       0.01       0.01       0.01\n",
            " 0.01       0.01       0.01       0.04882353 0.24294118 0.87964706\n",
            " 0.98835294 0.99223529 0.98835294 0.79423529 0.33611765 0.98835294\n",
            " 0.99223529 0.48364706 0.01       0.01       0.01       0.01\n",
            " 0.01       0.01       0.01       0.01       0.01       0.01\n",
            " 0.01       0.01       0.01       0.01       0.01       0.01\n",
            " 0.01       0.64282353 0.98835294 0.98835294 0.98835294 0.99223529\n",
            " 0.98835294 0.98835294 0.38270588 0.74376471 0.99223529 0.65835294\n",
            " 0.01       0.01       0.01       0.01       0.01       0.01\n",
            " 0.01       0.01       0.01       0.01       0.01       0.01\n",
            " 0.01       0.01       0.01       0.01       0.208      0.934\n",
            " 0.99223529 0.99223529 0.74764706 0.45258824 0.99223529 0.89517647\n",
            " 0.19247059 0.31670588 1.         0.66223529 0.01       0.01\n",
            " 0.01       0.01       0.01       0.01       0.01       0.01\n",
            " 0.01       0.01       0.01       0.01       0.01       0.01\n",
            " 0.01       0.19635294 0.934      0.98835294 0.98835294 0.70494118\n",
            " 0.05658824 0.30117647 0.47976471 0.09152941 0.01       0.01\n",
            " 0.99223529 0.95341176 0.20411765 0.01       0.01       0.01\n",
            " 0.01       0.01       0.01       0.01       0.01       0.01\n",
            " 0.01       0.01       0.01       0.01       0.15752941 0.65058824\n",
            " 0.99223529 0.91458824 0.81752941 0.33611765 0.01       0.01\n",
            " 0.01       0.01       0.01       0.01       0.99223529 0.98835294\n",
            " 0.65058824 0.01       0.01       0.01       0.01       0.01\n",
            " 0.01       0.01       0.01       0.01       0.01       0.01\n",
            " 0.01       0.03717647 0.70105882 0.98835294 0.94176471 0.28564706\n",
            " 0.08376471 0.11870588 0.01       0.01       0.01       0.01\n",
            " 0.01       0.01       0.99223529 0.98835294 0.76705882 0.01\n",
            " 0.01       0.01       0.01       0.01       0.01       0.01\n",
            " 0.01       0.01       0.01       0.01       0.01       0.23129412\n",
            " 0.98835294 0.98835294 0.25458824 0.01       0.01       0.01\n",
            " 0.01       0.01       0.01       0.01       0.01       0.01\n",
            " 0.99223529 0.98835294 0.76705882 0.01       0.01       0.01\n",
            " 0.01       0.01       0.01       0.01       0.01       0.01\n",
            " 0.01       0.01       0.01       0.77870588 0.99223529 0.74764706\n",
            " 0.01       0.01       0.01       0.01       0.01       0.01\n",
            " 0.01       0.01       0.01       0.01       1.         0.99223529\n",
            " 0.77094118 0.01       0.01       0.01       0.01       0.01\n",
            " 0.01       0.01       0.01       0.01       0.01       0.01\n",
            " 0.30505882 0.96505882 0.98835294 0.44482353 0.01       0.01\n",
            " 0.01       0.01       0.01       0.01       0.01       0.01\n",
            " 0.01       0.01       0.99223529 0.98835294 0.58458824 0.01\n",
            " 0.01       0.01       0.01       0.01       0.01       0.01\n",
            " 0.01       0.01       0.01       0.01       0.34       0.98835294\n",
            " 0.90294118 0.10705882 0.01       0.01       0.01       0.01\n",
            " 0.01       0.01       0.01       0.01       0.03717647 0.53411765\n",
            " 0.99223529 0.73211765 0.05658824 0.01       0.01       0.01\n",
            " 0.01       0.01       0.01       0.01       0.01       0.01\n",
            " 0.01       0.01       0.34       0.98835294 0.87576471 0.01\n",
            " 0.01       0.01       0.01       0.01       0.01       0.01\n",
            " 0.01       0.03717647 0.51858824 0.98835294 0.88352941 0.28564706\n",
            " 0.01       0.01       0.01       0.01       0.01       0.01\n",
            " 0.01       0.01       0.01       0.01       0.01       0.01\n",
            " 0.34       0.98835294 0.57294118 0.01       0.01       0.01\n",
            " 0.01       0.01       0.01       0.01       0.19635294 0.65058824\n",
            " 0.98835294 0.68164706 0.01       0.01       0.01       0.01\n",
            " 0.01       0.01       0.01       0.01       0.01       0.01\n",
            " 0.01       0.01       0.01       0.01       0.34388235 0.99223529\n",
            " 0.88352941 0.01       0.01       0.01       0.01       0.01\n",
            " 0.01       0.45258824 0.934      0.99223529 0.63894118 0.01\n",
            " 0.01       0.01       0.01       0.01       0.01       0.01\n",
            " 0.01       0.01       0.01       0.01       0.01       0.01\n",
            " 0.01       0.01       0.34       0.98835294 0.97670588 0.57682353\n",
            " 0.19635294 0.12258824 0.34       0.70105882 0.88352941 0.99223529\n",
            " 0.87576471 0.65835294 0.22741176 0.01       0.01       0.01\n",
            " 0.01       0.01       0.01       0.01       0.01       0.01\n",
            " 0.01       0.01       0.01       0.01       0.01       0.01\n",
            " 0.34       0.98835294 0.98835294 0.98835294 0.89905882 0.84470588\n",
            " 0.98835294 0.98835294 0.98835294 0.77094118 0.51470588 0.01\n",
            " 0.01       0.01       0.01       0.01       0.01       0.01\n",
            " 0.01       0.01       0.01       0.01       0.01       0.01\n",
            " 0.01       0.01       0.01       0.01       0.11870588 0.78258824\n",
            " 0.98835294 0.98835294 0.99223529 0.98835294 0.98835294 0.91458824\n",
            " 0.57294118 0.01       0.01       0.01       0.01       0.01\n",
            " 0.01       0.01       0.01       0.01       0.01       0.01\n",
            " 0.01       0.01       0.01       0.01       0.01       0.01\n",
            " 0.01       0.01       0.01       0.10705882 0.50694118 0.98835294\n",
            " 0.99223529 0.98835294 0.55741176 0.15364706 0.01       0.01\n",
            " 0.01       0.01       0.01       0.01       0.01       0.01\n",
            " 0.01       0.01       0.01       0.01       0.01       0.01\n",
            " 0.01       0.01       0.01       0.01       0.01       0.01\n",
            " 0.01       0.01       0.01       0.01       0.01       0.01\n",
            " 0.01       0.01       0.01       0.01       0.01       0.01\n",
            " 0.01       0.01       0.01       0.01       0.01       0.01\n",
            " 0.01       0.01       0.01       0.01       0.01       0.01\n",
            " 0.01       0.01       0.01       0.01       0.01       0.01\n",
            " 0.01       0.01       0.01       0.01       0.01       0.01\n",
            " 0.01       0.01       0.01       0.01       0.01       0.01\n",
            " 0.01       0.01       0.01       0.01       0.01       0.01\n",
            " 0.01       0.01       0.01       0.01       0.01       0.01\n",
            " 0.01       0.01       0.01       0.01       0.01       0.01\n",
            " 0.01       0.01       0.01       0.01       0.01       0.01\n",
            " 0.01       0.01       0.01       0.01       0.01       0.01\n",
            " 0.01       0.01       0.01       0.01       0.01       0.01\n",
            " 0.01       0.01       0.01       0.01       0.01       0.01\n",
            " 0.01       0.01       0.01       0.01       0.01       0.01\n",
            " 0.01       0.01       0.01       0.01       0.01       0.01\n",
            " 0.01       0.01       0.01       0.01       0.01       0.01\n",
            " 0.01       0.01       0.01       0.01      ]\n"
          ]
        }
      ]
    },
    {
      "cell_type": "code",
      "source": [
        "# output nodes is 10 (example)\n",
        "onodes = 10\n",
        "targets = np.zeros(onodes) + 0.01\n",
        "targets[int(all_values[0])] = 0.99"
      ],
      "metadata": {
        "id": "_YKOZ-o6fB4e"
      },
      "execution_count": 19,
      "outputs": []
    },
    {
      "cell_type": "code",
      "source": [
        "print(targets)"
      ],
      "metadata": {
        "colab": {
          "base_uri": "https://localhost:8080/"
        },
        "id": "10tgV4vAhhKi",
        "outputId": "f36509ee-0fe6-4e21-da82-a3eff3c47691"
      },
      "execution_count": 20,
      "outputs": [
        {
          "output_type": "stream",
          "name": "stdout",
          "text": [
            "[0.99 0.01 0.01 0.01 0.01 0.01 0.01 0.01 0.01 0.01]\n"
          ]
        }
      ]
    },
    {
      "cell_type": "code",
      "source": [
        "# 신경망 클래스의 정의\n",
        "class neuralNetwork:\n",
        "  # 신경망 초기화하기\n",
        "  def __init__(self, inputnodes, hiddennodes, outputnodes, learningrate):\n",
        "    # 입력, 은닉, 출력 계층의 노드 개수 설정\n",
        "    self.inodes = inputnodes\n",
        "    self.hnodes = hiddennodes\n",
        "    self.onodes = outputnodes\n",
        "\n",
        "    # 가중치 행렬 wih와 who\n",
        "    # 배열 내 가중치는 w_i_j로 표기. 노드 i에서 다음 계층의 노드 j로 연결됨을 의미\n",
        "    # w11 w21\n",
        "    # w12 w22 등\n",
        "    self.wih = np.random.normal(0.0, pow(self.hnodes, -0.5), (self.hnodes, self.inodes))\n",
        "    self.who = np.random.normal(0.0, pow(self.onodes, -0.5), (self.onodes, self.hnodes))\n",
        "\n",
        "    # 학습률\n",
        "    self.lr = learningrate\n",
        "\n",
        "    # 활성화 함수로는 시그모이드 함수를 이용\n",
        "    self.activation_function = lambda x: scipy.special.expit(x)\n",
        "\n",
        "    pass\n",
        "\n",
        "  # 신경망 학습시키기\n",
        "  def train(self, inputs_list, targets_list):\n",
        "    # 입력 리스트를 2차원의 행렬로 변환\n",
        "    inputs = np.array(inputs_list, ndmin=2).T\n",
        "    targets = np.array(targets_list, ndmin=2).T\n",
        "\n",
        "    # 은닉 계층으로 들어오는 신호를 계산\n",
        "    hidden_inputs = np.dot(self.wih, inputs)\n",
        "    # 은닉 계층에서 나가는 신호를 계산\n",
        "    hidden_outputs = self.activation_function(hidden_inputs)\n",
        "\n",
        "    # 최종 출력 계층으로 들어오는 신호를 계산\n",
        "    final_inputs = np.dot(self.who, hidden_outputs)\n",
        "    # 최종 출력 계층에서 나가는 신호를 계산\n",
        "    final_outputs = self.activation_function(final_inputs)\n",
        "\n",
        "    # 출력 계층의 오차는 (실제 값 - 계산 값)\n",
        "    output_errors = targets - final_outputs\n",
        "    # 은닉 계층의 오차는 가중치에 의해 나뉜 출력 계층의 오차들을 재조합해 계산\n",
        "    hidden_errors = np.dot(self.who.T, output_errors)\n",
        "\n",
        "    # 은닉 계층과 출력 계층 간의 가중치 업데이트\n",
        "    self.who += self.lr * np.dot((output_errors * final_outputs * (1.0 - final_outputs)), np.transpose(hidden_outputs))\n",
        "\n",
        "    # 입력 계층과 은닉 계층 간의 가중치 업데이트\n",
        "    self.wih += self.lr * np.dot((hidden_errors * hidden_outputs * (1.0 - hidden_outputs)), np.transpose(inputs))\n",
        "\n",
        "    pass\n",
        "\n",
        "  # 신경망에 질의하기\n",
        "  def query(self, inputs_list):\n",
        "    # 입력 리스트를 2차원 행렬로 변환\n",
        "    inputs = np.array(inputs_list, ndmin=2).T\n",
        "\n",
        "    # 은닉 계층으로 들어오는 신호를 계산\n",
        "    hidden_inputs = np.dot(self.wih, inputs)\n",
        "    # 은닉 계층에서 나가는 신호를 계산\n",
        "    hidden_outputs = self.activation_function(hidden_inputs)\n",
        "\n",
        "    # 최종 출력 계층으로 들어오는 신호를 계산\n",
        "    final_inputs = np.dot(self.who, hidden_outputs)\n",
        "    # 최종 출력 계층에서 나가는 신호를 계산\n",
        "    final_outputs = self.activation_function(final_inputs)\n",
        "\n",
        "    return final_outputs\n",
        "\n"
      ],
      "metadata": {
        "id": "6EAK3h_XhjJy"
      },
      "execution_count": 28,
      "outputs": []
    },
    {
      "cell_type": "code",
      "source": [
        "# 입력, 은닉, 출력 노드의 수\n",
        "input_nodes = 784\n",
        "hidden_nodes = 100\n",
        "output_nodes = 10\n",
        "\n",
        "# 학습률은 0.3\n",
        "learning_rate = 0.3\n",
        "\n",
        "# 신경망의 인스턴스 생성\n",
        "n = neuralNetwork(input_nodes, hidden_nodes, output_nodes, learning_rate)\n",
        "\n",
        "# mnist 학습 데이터인 csv 파일을 리스트로 불러오기(위에서 실행)\n",
        "\n",
        "# 신경망 학습시키기"
      ],
      "metadata": {
        "id": "SaghnUCmoOFc"
      },
      "execution_count": 29,
      "outputs": []
    },
    {
      "cell_type": "code",
      "source": [
        "# 학습 데이터 모음 내의 모든 레코드 탐색\n",
        "for record in data_list:\n",
        "  # 레코드를 쉼표에 의해 분리\n",
        "  all_values = record.split(',')\n",
        "  # 입력 값의 범위와 값 조정\n",
        "  inputs = (np.asfarray(all_values[1:]) / 255.0 * 0.99) + 0.01\n",
        "  # 결과 값 생성 (실제 값인 0.99 외에는 모두 0.01)\n",
        "  targets = np.zeros(output_nodes) + 0.01\n",
        "  # all_values[0]은 이 레코드에 대한 결과 값\n",
        "  targets[int(all_values[0])] = 0.99\n",
        "  n.train(inputs, targets)\n",
        "  pass\n",
        "  "
      ],
      "metadata": {
        "id": "YauHbDB6pSvn"
      },
      "execution_count": 30,
      "outputs": []
    },
    {
      "cell_type": "code",
      "source": [
        ""
      ],
      "metadata": {
        "id": "0spE5-Amq_UG"
      },
      "execution_count": null,
      "outputs": []
    }
  ]
}