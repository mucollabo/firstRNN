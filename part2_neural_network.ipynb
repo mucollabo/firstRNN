{
  "nbformat": 4,
  "nbformat_minor": 0,
  "metadata": {
    "colab": {
      "name": "part2_neural_network.ipynb",
      "provenance": [],
      "authorship_tag": "ABX9TyNg2mjazCSC2phwy7fsEozg",
      "include_colab_link": true
    },
    "kernelspec": {
      "name": "python3",
      "display_name": "Python 3"
    },
    "language_info": {
      "name": "python"
    }
  },
  "cells": [
    {
      "cell_type": "markdown",
      "metadata": {
        "id": "view-in-github",
        "colab_type": "text"
      },
      "source": [
        "<a href=\"https://colab.research.google.com/github/mucollabo/firstRNN/blob/main/part2_neural_network.ipynb\" target=\"_parent\"><img src=\"https://colab.research.google.com/assets/colab-badge.svg\" alt=\"Open In Colab\"/></a>"
      ]
    },
    {
      "cell_type": "code",
      "execution_count": 11,
      "metadata": {
        "id": "z9FD_tY95p7s"
      },
      "outputs": [],
      "source": [
        "import numpy as np\n",
        "import scipy.special\n",
        "\n",
        "# 신경망 클래스의 정의\n",
        "class neuralNetwork:\n",
        "\n",
        "  # 신경망 초기화하기\n",
        "  def __init__(self, inputnodes, hiddennodes, outputnodes, learningrate):\n",
        "    # 입력, 은닉, 출력 계층의 노드 개수 설정\n",
        "    self.inodes = inputnodes\n",
        "    self.hnodes = hiddennodes\n",
        "    self.onodes = outputnodes\n",
        "\n",
        "    # 가중치 행렬 wih와 who\n",
        "    # 배열 내 가중치는 w_i_j로 표기. 노드 i에서서 계층의의 노드드 j로 연결됨을을 의미미\n",
        "    # w11 w21\n",
        "    # w12 w22 등\n",
        "    self.wih = np.random.normal(0.0, pow(self.hnodes, -0.5), (self.hnodes, self.inodes))\n",
        "    self.who = np.random.normal(0.0, pow(self.onodes, -0.5), (self.onodes, self.hnodes))\n",
        "\n",
        "    # 학습률\n",
        "    self.lr = learningrate\n",
        "\n",
        "    # 활성화화 함수로는는 시그모이드드 함수를를 이용용\n",
        "    self.activation_function = lambda x: scipy.special.expit(x)\n",
        "\n",
        "    pass\n",
        "\n",
        "  # 신경망 학습시키기\n",
        "  def train(self, inputs_list, targets_list):\n",
        "    # 입력 리스트를 2차원 행렬로 변환\n",
        "    inputs = np.array(inputs_list, ndmin=2).T\n",
        "    targets = np.array(targets_list, ndmin=2).T\n",
        "\n",
        "    # 은닉 계층으로 들어오는 신호를 계산\n",
        "    hidden_inputs = np.dot(self.wih, inputs)\n",
        "    # 은닉 계층에서 나가는 신호를 계산\n",
        "    hidden_outputs = self.activation_function(hidden_inputs)\n",
        "    # 최종 출력 계층으로 들어오는 신호를 계산\n",
        "    final_inputs = np.dot(self.who, hidden_outputs)\n",
        "    # 최종 출력 계층에서 나가는 신호를 계산\n",
        "    final_outputs = self.activation_function(final_inputs)\n",
        "\n",
        "    # 출력 계층의 오차는 (실제 값 - 계산 값)\n",
        "    output_errors = targets - final_outputs\n",
        "    # 은닉 계층의 오차는 가중치에 의해 나뉜 출력계층의 오차들을 재조합해 계산\n",
        "    hidden_errors = np.dot(self.who.T, output_errors)\n",
        "\n",
        "    # 은닉 계층과 출력 계층간의 가중치 업데이트\n",
        "    self.who += self.lr * np.dot((output_errors * final_outputs * (1.0 - final_outputs)), np.transpose(hidden_outputs))\n",
        "\n",
        "    # 입력 계층과 은닉 계층간의 가중치 업데이트\n",
        "    self.wih += self.lr * np.dot((hidden_errors * hidden_outputs * (1.0 - hidden_outputs)), np.transpose(inputs))\n",
        "\n",
        "    pass\n",
        "\n",
        "  # 신경망에 질의하기\n",
        "  def query(self, inputs_list):\n",
        "    # 입력 리스트를 2차원 행렬로 변환\n",
        "    inputs = np.array(inputs_list, ndmin=2).T\n",
        "\n",
        "    # 은닉 계층으로 들어오는 신호를 계산\n",
        "    hidden_inputs = np.dot(self.wih, inputs)\n",
        "    # 은닉 계층에서 나가는 신호를 계산\n",
        "    hidden_outputs = self.activation_function(hidden_inputs)\n",
        "    # 최종 출력 계층으로 들어오는 신호를 계산\n",
        "    final_inputs = np.dot(self.who, hidden_outputs)\n",
        "    # 최종 출력 계층에서 나가는 신호를 계산\n",
        "    final_outputs = self.activation_function(final_inputs)\n",
        "\n",
        "    return final_outputs\n"
      ]
    },
    {
      "cell_type": "code",
      "source": [
        "# 입력, 은닉, 출력 노드의 수\n",
        "input_nodes = 3\n",
        "hidden_nodes = 3\n",
        "output_nodes = 3\n",
        "\n",
        "# 학습률은 0.3으로 정의\n",
        "learning_rate = 0.3\n",
        "# 신경망의 인스턴스를 생성\n",
        "n = neuralNetwork(input_nodes, hidden_nodes, output_nodes, learning_rate)\n"
      ],
      "metadata": {
        "id": "URHej8Gv6izW"
      },
      "execution_count": 12,
      "outputs": []
    },
    {
      "cell_type": "code",
      "source": [
        "n.query([1.0, 0.5, -1.5])"
      ],
      "metadata": {
        "colab": {
          "base_uri": "https://localhost:8080/"
        },
        "id": "BgN4wind780J",
        "outputId": "ccf0ac4a-e317-49a7-9219-e82688ae48d3"
      },
      "execution_count": 13,
      "outputs": [
        {
          "output_type": "execute_result",
          "data": {
            "text/plain": [
              "array([[0.30938227],\n",
              "       [0.23922053],\n",
              "       [0.4524829 ]])"
            ]
          },
          "metadata": {},
          "execution_count": 13
        }
      ]
    },
    {
      "cell_type": "code",
      "source": [
        ""
      ],
      "metadata": {
        "id": "SD6VW3UzTLOy"
      },
      "execution_count": null,
      "outputs": []
    }
  ]
}