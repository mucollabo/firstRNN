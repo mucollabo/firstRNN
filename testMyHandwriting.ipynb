{
  "nbformat": 4,
  "nbformat_minor": 0,
  "metadata": {
    "colab": {
      "name": "testMyHandwriting.ipynb",
      "provenance": [],
      "mount_file_id": "14cK37tShjPK3mYZg9gxaWiCXEOfDL4u_",
      "authorship_tag": "ABX9TyOtE3UW81R/DibyuBGjwsxv",
      "include_colab_link": true
    },
    "kernelspec": {
      "name": "python3",
      "display_name": "Python 3"
    },
    "language_info": {
      "name": "python"
    }
  },
  "cells": [
    {
      "cell_type": "markdown",
      "metadata": {
        "id": "view-in-github",
        "colab_type": "text"
      },
      "source": [
        "<a href=\"https://colab.research.google.com/github/mucollabo/firstRNN/blob/main/testMyHandwriting.ipynb\" target=\"_parent\"><img src=\"https://colab.research.google.com/assets/colab-badge.svg\" alt=\"Open In Colab\"/></a>"
      ]
    },
    {
      "cell_type": "code",
      "execution_count": 1,
      "metadata": {
        "id": "JZXA1NgaQOQU"
      },
      "outputs": [],
      "source": [
        "import numpy as np\n",
        "import scipy.special\n",
        "import scipy.misc\n",
        "import matplotlib.pyplot as plt\n",
        "%matplotlib inline\n",
        "\n",
        "# 신경망 클래스의 정의\n",
        "class neuralNetwork:\n",
        "  # 신경망 초기화하기\n",
        "  def __init__(self, inputnodes, hiddennodes, outputnodes, learningrate):\n",
        "    # 입력, 은닉, 출력 계층의 노드 개수 설정\n",
        "    self.inodes = inputnodes\n",
        "    self.hnodes = hiddennodes\n",
        "    self.onodes = outputnodes\n",
        "\n",
        "    # 가중치 행렬 wih와 who\n",
        "    # 배열 내 가중치는 w_i_j로 표기. 노드 i에서 다음 계층의 노드 j로 연결됨을 의미\n",
        "    # w11 w21\n",
        "    # w12 w22 등\n",
        "    self.wih = np.random.normal(0.0, pow(self.hnodes, -0.5), (self.hnodes, self.inodes))\n",
        "    self.who = np.random.normal(0.0, pow(self.onodes, -0.5), (self.onodes, self.hnodes))\n",
        "\n",
        "    # 학습률\n",
        "    self.lr = learningrate\n",
        "\n",
        "    # 활성화 함수로는 시그모이드 함수를 이용\n",
        "    self.activation_function = lambda x: scipy.special.expit(x)\n",
        "\n",
        "    pass\n",
        "\n",
        "  # 신경망 학습시키기\n",
        "  def train(self, inputs_list, targets_list):\n",
        "    # 입력 리스트를 2차원의 행렬로 변환\n",
        "    inputs = np.array(inputs_list, ndmin=2).T\n",
        "    targets = np.array(targets_list, ndmin=2).T\n",
        "\n",
        "    # 은닉 계층으로 들어오는 신호를 계산\n",
        "    hidden_inputs = np.dot(self.wih, inputs)\n",
        "    # 은닉 계층에서 나가는 신호를 계산\n",
        "    hidden_outputs = self.activation_function(hidden_inputs)\n",
        "\n",
        "    # 최종 출력 계층으로 들어오는 신호를 계산\n",
        "    final_inputs = np.dot(self.who, hidden_outputs)\n",
        "    # 최종 출력 계층에서 나가는 신호를 계산\n",
        "    final_outputs = self.activation_function(final_inputs)\n",
        "\n",
        "    # 출력 계층의 오차는 (실제 값 - 계산 값)\n",
        "    output_errors = targets - final_outputs\n",
        "    # 은닉 계층의 오차는 가중치에 의해 나뉜 출력 계층의 오차들을 재조합해 계산\n",
        "    hidden_errors = np.dot(self.who.T, output_errors)\n",
        "\n",
        "    # 은닉 계층과 출력 계층 간의 가중치 업데이트\n",
        "    self.who += self.lr * np.dot((output_errors * final_outputs * (1.0 - final_outputs)), np.transpose(hidden_outputs))\n",
        "\n",
        "    # 입력 계층과 은닉 계층 간의 가중치 업데이트\n",
        "    self.wih += self.lr * np.dot((hidden_errors * hidden_outputs * (1.0 - hidden_outputs)), np.transpose(inputs))\n",
        "\n",
        "    pass\n",
        "\n",
        "  # 신경망에 질의하기\n",
        "  def query(self, inputs_list):\n",
        "    # 입력 리스트를 2차원 행렬로 변환\n",
        "    inputs = np.array(inputs_list, ndmin=2).T\n",
        "\n",
        "    # 은닉 계층으로 들어오는 신호를 계산\n",
        "    hidden_inputs = np.dot(self.wih, inputs)\n",
        "    # 은닉 계층에서 나가는 신호를 계산\n",
        "    hidden_outputs = self.activation_function(hidden_inputs)\n",
        "\n",
        "    # 최종 출력 계층으로 들어오는 신호를 계산\n",
        "    final_inputs = np.dot(self.who, hidden_outputs)\n",
        "    # 최종 출력 계층에서 나가는 신호를 계산\n",
        "    final_outputs = self.activation_function(final_inputs)\n",
        "\n",
        "    return final_outputs\n",
        "\n",
        "# 입력, 은닉, 출력 노드의 수\n",
        "input_nodes = 784\n",
        "hidden_nodes = 500\n",
        "output_nodes = 10\n",
        "\n",
        "# 학습률\n",
        "learning_rate = 0.1\n",
        "\n",
        "# 신경망의 인스턴스 생성\n",
        "n = neuralNetwork(input_nodes, hidden_nodes, output_nodes, learning_rate)\n",
        "\n",
        "# mnist 학습 데이터인 csv 파일을 리스트로 불러오기\n",
        "training_data_file = open(\"/content/drive/MyDrive/ColabNotebooks/myo_gan/mnist_data/mnist_train.csv\", 'r')\n",
        "training_data_list = training_data_file.readlines()\n",
        "training_data_file.close()\n",
        "\n",
        "# 신경망 학습시키기\n",
        "\n",
        "# 주기(ecpoch)란 학습 데이터가 학습을 위해 사용되는 횟수를 의미\n",
        "epochs = 5\n",
        "\n",
        "for e in range(epochs):\n",
        "  # 학습 데이터 모음 내의 모든 레코드 탐색\n",
        "  for record in training_data_list:\n",
        "    # 레코드를 쉼표에 의해 분리\n",
        "    all_values = record.split(',')\n",
        "    # 입력 값의 범위와 값 조정\n",
        "    inputs = (np.asfarray(all_values[1:]) / 255.0 * 0.99) + 0.01\n",
        "    # 결과 값 생성 (실제 값인 0.99 외에는 모두 0.01)\n",
        "    targets = np.zeros(output_nodes) + 0.01\n",
        "    # all_values[0]은 이 레코드에 대한 결과 값\n",
        "    targets[int(all_values[0])] = 0.99\n",
        "    n.train(inputs, targets)\n",
        "    pass\n",
        "  pass\n",
        "\n",
        "# # mnist 테스트 데이터인 csv 파일을 리스트로 불러오기\n",
        "# test_data_file = open(\"/content/drive/MyDrive/ColabNotebooks/myo_gan/mnist_data/mnist_test.csv\", 'r')\n",
        "# test_data_list = test_data_file.readlines()\n",
        "# test_data_file.close()\n",
        "\n",
        "# # 신경망 테스트하기\n",
        "\n",
        "# # 신경망의 성능의 지표가 되는 성적표를 아무 값도 가지지 않도록 초기화\n",
        "# scorecard = []\n",
        "\n",
        "# # 테스트 데이터 모음 내의 모든 레코드 탐색\n",
        "# for record in test_data_list:\n",
        "#   # 레코드를 쉼표에 의해 분리\n",
        "#   all_values = record.split(',')\n",
        "#   # 정답은 첫 번째 값\n",
        "#   correct_label = int(all_values[0])\n",
        "#   # 입력 값의 범위와 값 조정\n",
        "#   inputs = (np.asfarray(all_values[1:]) / 255.0 * 0.99) + 0.01\n",
        "#   # 신경망에 질의\n",
        "#   outputs = n.query(inputs)\n",
        "#   # 가장 높은 값의 인덱스는 레이블의 인덱스와 일치\n",
        "#   label = np.argmax(outputs)\n",
        "#   # 정답 또는 오답을 리스트에 추가\n",
        "#   if (label == correct_label):\n",
        "#     # 정담인 경우 성적표에 1을 더함\n",
        "#     scorecard.append(1)\n",
        "#   else:\n",
        "#     # 정답이 아인경우 성적표에 0을 더함\n",
        "#     scorecard.append(0)\n",
        "#     pass\n",
        "#   pass\n",
        "  \n",
        "# # 정답의 비율인 성적을 계산해 출력\n",
        "# scorecard_array = np.asarray(scorecard)\n",
        "# print(\"performance = \", scorecard_array.sum() / scorecard_array.size)\n",
        "\n"
      ]
    },
    {
      "cell_type": "code",
      "source": [
        "!pip install Pillow"
      ],
      "metadata": {
        "colab": {
          "base_uri": "https://localhost:8080/"
        },
        "id": "9bkUubs44UiY",
        "outputId": "289bae78-8113-404d-e28a-ddd30e501a27"
      },
      "execution_count": 3,
      "outputs": [
        {
          "output_type": "stream",
          "name": "stdout",
          "text": [
            "Requirement already satisfied: Pillow in /usr/local/lib/python3.7/dist-packages (7.1.2)\n"
          ]
        }
      ]
    },
    {
      "cell_type": "code",
      "source": [
        "# helper to load data from PNG image files\n",
        "import imageio\n",
        "# glob helps select multiple files using patterns\n",
        "import glob\n",
        "\n",
        "# myHandwriting을 디코딩하기\n",
        "our_own_dataset = []\n",
        "\n",
        "# load the png image data as test data set\n",
        "for image_file_name in glob.glob('/content/drive/MyDrive/ColabNotebooks/firstRNN/myHandwriting_data/hw_?.png'):\n",
        "  \n",
        "  # use the filename to set the correct label\n",
        "  label = int(image_file_name[-5:-4])\n",
        "\n",
        "  # load imgae data from png files into an array\n",
        "  print(\"loading ... \", image_file_name)\n",
        "  img_array = imageio.imread(image_file_name, as_gray=True)\n",
        "  \n",
        "  # reshape from 28x28 to list of 784 values, invert values\n",
        "  img_data = 255.0 - img_array.reshape(784)\n",
        "\n",
        "  # then scale data to range from 0.01 to 1.0\n",
        "  img_data = (img_data / 255.0 * 0.99) + 0.01\n",
        "  print(np.min(img_data))\n",
        "  print(np.max(img_data))\n",
        "\n",
        "  # append label and image data to test data set\n",
        "  record = np.append(label, img_data)\n",
        "  our_own_dataset.append(record)\n",
        "\n",
        "  pass"
      ],
      "metadata": {
        "colab": {
          "base_uri": "https://localhost:8080/"
        },
        "id": "Zfo3ozzedI2T",
        "outputId": "d47b00a4-957f-4ee9-ae0d-473af8d14d15"
      },
      "execution_count": 7,
      "outputs": [
        {
          "output_type": "stream",
          "name": "stdout",
          "text": [
            "loading ...  /content/drive/MyDrive/ColabNotebooks/firstRNN/myHandwriting_data/hw_4.png\n",
            "0.01\n",
            "0.44482353\n",
            "loading ...  /content/drive/MyDrive/ColabNotebooks/firstRNN/myHandwriting_data/hw_5.png\n",
            "0.01\n",
            "0.43317646\n",
            "loading ...  /content/drive/MyDrive/ColabNotebooks/firstRNN/myHandwriting_data/hw_2.png\n",
            "0.01\n",
            "0.8563529\n",
            "loading ...  /content/drive/MyDrive/ColabNotebooks/firstRNN/myHandwriting_data/hw_3.png\n",
            "0.01\n",
            "1.0\n",
            "loading ...  /content/drive/MyDrive/ColabNotebooks/firstRNN/myHandwriting_data/hw_6.png\n",
            "0.01\n",
            "0.9572941\n",
            "loading ...  /content/drive/MyDrive/ColabNotebooks/firstRNN/myHandwriting_data/hw_7.png\n",
            "0.01\n",
            "1.0\n",
            "loading ...  /content/drive/MyDrive/ColabNotebooks/firstRNN/myHandwriting_data/hw_1.png\n",
            "0.01\n",
            "0.091529414\n"
          ]
        }
      ]
    },
    {
      "cell_type": "code",
      "source": [
        "# test the neural network with our own images\n",
        "\n",
        "# record to test\n",
        "item = 0\n",
        "\n",
        "# plot image\n",
        "plt.imshow(our_own_dataset[item][1:].reshape(28,28), cmap='Greys', interpolation='None')\n",
        "\n",
        "# correct answer is first value\n",
        "correct_label = our_own_dataset[item][0]\n",
        "# data is remaining values\n",
        "inputs = our_own_dataset[item][1:]\n",
        "\n",
        "# query the network\n",
        "outputs = n.query(inputs)\n",
        "print (outputs)\n",
        "\n",
        "# the index of the highest value corresponds to the label\n",
        "label = np.argmax(outputs)\n",
        "print(\"network says \", label)\n",
        "# append correct or incorrect to list\n",
        "if (label == correct_label):\n",
        "    print (\"match!\")\n",
        "else:\n",
        "    print (\"no match!\")\n",
        "    pass"
      ],
      "metadata": {
        "colab": {
          "base_uri": "https://localhost:8080/",
          "height": 469
        },
        "id": "lV01ABxT4ZEk",
        "outputId": "0c649b5c-dd9b-42e9-8eb8-008ed76ba37a"
      },
      "execution_count": 8,
      "outputs": [
        {
          "output_type": "stream",
          "name": "stdout",
          "text": [
            "[[1.46625462e-05]\n",
            " [4.56985802e-05]\n",
            " [3.91962874e-04]\n",
            " [3.46137823e-06]\n",
            " [4.52404744e-04]\n",
            " [4.38140122e-02]\n",
            " [1.67525342e-05]\n",
            " [1.52858150e-03]\n",
            " [1.36138311e-08]\n",
            " [8.80496734e-06]]\n",
            "network says  5\n",
            "no match!\n"
          ]
        },
        {
          "output_type": "display_data",
          "data": {
            "text/plain": [
              "<Figure size 432x288 with 1 Axes>"
            ],
            "image/png": "[encoded data removed]"
          },
          "metadata": {
            "needs_background": "light"
          }
        }
      ]
    },
    {
      "cell_type": "code",
      "source": [
        "# test the neural network with our own images\n",
        "\n",
        "# record to test\n",
        "item = 1\n",
        "\n",
        "# plot image\n",
        "plt.imshow(our_own_dataset[item][1:].reshape(28,28), cmap='Greys', interpolation='None')\n",
        "\n",
        "# correct answer is first value\n",
        "correct_label = our_own_dataset[item][0]\n",
        "# data is remaining values\n",
        "inputs = our_own_dataset[item][1:]\n",
        "\n",
        "# query the network\n",
        "outputs = n.query(inputs)\n",
        "print (outputs)\n",
        "\n",
        "# the index of the highest value corresponds to the label\n",
        "label = np.argmax(outputs)\n",
        "print(\"network says \", label)\n",
        "# append correct or incorrect to list\n",
        "if (label == correct_label):\n",
        "    print (\"match!\")\n",
        "else:\n",
        "    print (\"no match!\")\n",
        "    pass"
      ],
      "metadata": {
        "colab": {
          "base_uri": "https://localhost:8080/",
          "height": 469
        },
        "id": "DtUDjZ5B__9x",
        "outputId": "377d4cec-f58c-48c1-f703-714960ea2b2a"
      },
      "execution_count": 9,
      "outputs": [
        {
          "output_type": "stream",
          "name": "stdout",
          "text": [
            "[[1.35577378e-05]\n",
            " [5.99749380e-06]\n",
            " [9.79301746e-05]\n",
            " [1.37156533e-06]\n",
            " [1.13125512e-05]\n",
            " [7.87450394e-01]\n",
            " [8.06103410e-06]\n",
            " [1.04127724e-03]\n",
            " [4.73116707e-08]\n",
            " [1.77255885e-06]]\n",
            "network says  5\n",
            "match!\n"
          ]
        },
        {
          "output_type": "display_data",
          "data": {
            "text/plain": [
              "<Figure size 432x288 with 1 Axes>"
            ],
            "image/png": "[encoded data removed]"
          },
          "metadata": {
            "needs_background": "light"
          }
        }
      ]
    },
    {
      "cell_type": "code",
      "source": [
        "# test the neural network with our own images\n",
        "\n",
        "# record to test\n",
        "item = 2\n",
        "\n",
        "# plot image\n",
        "plt.imshow(our_own_dataset[item][1:].reshape(28,28), cmap='Greys', interpolation='None')\n",
        "\n",
        "# correct answer is first value\n",
        "correct_label = our_own_dataset[item][0]\n",
        "# data is remaining values\n",
        "inputs = our_own_dataset[item][1:]\n",
        "\n",
        "# query the network\n",
        "outputs = n.query(inputs)\n",
        "print (outputs)\n",
        "\n",
        "# the index of the highest value corresponds to the label\n",
        "label = np.argmax(outputs)\n",
        "print(\"network says \", label)\n",
        "# append correct or incorrect to list\n",
        "if (label == correct_label):\n",
        "    print (\"match!\")\n",
        "else:\n",
        "    print (\"no match!\")\n",
        "    pass"
      ],
      "metadata": {
        "colab": {
          "base_uri": "https://localhost:8080/",
          "height": 469
        },
        "id": "xvGuPmm6ALAP",
        "outputId": "27a5c10f-58b7-4b85-c939-e0a6f74b6d4e"
      },
      "execution_count": 10,
      "outputs": [
        {
          "output_type": "stream",
          "name": "stdout",
          "text": [
            "[[8.34399631e-03]\n",
            " [1.61101840e-03]\n",
            " [1.67093653e-01]\n",
            " [9.06601743e-03]\n",
            " [4.68572465e-03]\n",
            " [3.02885272e-02]\n",
            " [1.37244194e-03]\n",
            " [1.64824352e-04]\n",
            " [1.40108393e-02]\n",
            " [3.17447851e-04]]\n",
            "network says  2\n",
            "match!\n"
          ]
        },
        {
          "output_type": "display_data",
          "data": {
            "text/plain": [
              "<Figure size 432x288 with 1 Axes>"
            ],
            "image/png": "[encoded data removed]"
          },
          "metadata": {
            "needs_background": "light"
          }
        }
      ]
    },
    {
      "cell_type": "code",
      "source": [
        "# test the neural network with our own images\n",
        "\n",
        "# record to test\n",
        "item = 3\n",
        "\n",
        "# plot image\n",
        "plt.imshow(our_own_dataset[item][1:].reshape(28,28), cmap='Greys', interpolation='None')\n",
        "\n",
        "# correct answer is first value\n",
        "correct_label = our_own_dataset[item][0]\n",
        "# data is remaining values\n",
        "inputs = our_own_dataset[item][1:]\n",
        "\n",
        "# query the network\n",
        "outputs = n.query(inputs)\n",
        "print (outputs)\n",
        "\n",
        "# the index of the highest value corresponds to the label\n",
        "label = np.argmax(outputs)\n",
        "print(\"network says \", label)\n",
        "# append correct or incorrect to list\n",
        "if (label == correct_label):\n",
        "    print (\"match!\")\n",
        "else:\n",
        "    print (\"no match!\")\n",
        "    pass"
      ],
      "metadata": {
        "colab": {
          "base_uri": "https://localhost:8080/",
          "height": 469
        },
        "id": "SJcwf4u_ANsf",
        "outputId": "956f5566-9ea8-494d-dc79-fba60d4e3874"
      },
      "execution_count": 11,
      "outputs": [
        {
          "output_type": "stream",
          "name": "stdout",
          "text": [
            "[[8.66560245e-04]\n",
            " [2.23232692e-03]\n",
            " [5.39839866e-04]\n",
            " [8.53072133e-01]\n",
            " [7.64564510e-04]\n",
            " [1.29090831e-02]\n",
            " [4.29162742e-04]\n",
            " [8.74544256e-03]\n",
            " [2.90395897e-06]\n",
            " [7.76038937e-03]]\n",
            "network says  3\n",
            "match!\n"
          ]
        },
        {
          "output_type": "display_data",
          "data": {
            "text/plain": [
              "<Figure size 432x288 with 1 Axes>"
            ],
            "image/png": "[encoded data removed]"
          },
          "metadata": {
            "needs_background": "light"
          }
        }
      ]
    },
    {
      "cell_type": "code",
      "source": [
        "# test the neural network with our own images\n",
        "\n",
        "# record to test\n",
        "item = 4\n",
        "\n",
        "# plot image\n",
        "plt.imshow(our_own_dataset[item][1:].reshape(28,28), cmap='Greys', interpolation='None')\n",
        "\n",
        "# correct answer is first value\n",
        "correct_label = our_own_dataset[item][0]\n",
        "# data is remaining values\n",
        "inputs = our_own_dataset[item][1:]\n",
        "\n",
        "# query the network\n",
        "outputs = n.query(inputs)\n",
        "print (outputs)\n",
        "\n",
        "# the index of the highest value corresponds to the label\n",
        "label = np.argmax(outputs)\n",
        "print(\"network says \", label)\n",
        "# append correct or incorrect to list\n",
        "if (label == correct_label):\n",
        "    print (\"match!\")\n",
        "else:\n",
        "    print (\"no match!\")\n",
        "    pass"
      ],
      "metadata": {
        "colab": {
          "base_uri": "https://localhost:8080/",
          "height": 469
        },
        "id": "g7XBkdKBAQkX",
        "outputId": "bfef0187-33ed-415f-c0ee-a998615fa740"
      },
      "execution_count": 12,
      "outputs": [
        {
          "output_type": "stream",
          "name": "stdout",
          "text": [
            "[[2.38938772e-03]\n",
            " [9.28475193e-04]\n",
            " [2.90731600e-03]\n",
            " [1.58297360e-03]\n",
            " [3.66940180e-04]\n",
            " [2.17265445e-01]\n",
            " [5.59663662e-01]\n",
            " [1.91502928e-03]\n",
            " [5.07742290e-04]\n",
            " [1.29905558e-02]]\n",
            "network says  6\n",
            "match!\n"
          ]
        },
        {
          "output_type": "display_data",
          "data": {
            "text/plain": [
              "<Figure size 432x288 with 1 Axes>"
            ],
            "image/png": "[encoded data removed]"
          },
          "metadata": {
            "needs_background": "light"
          }
        }
      ]
    },
    {
      "cell_type": "code",
      "source": [
        "# test the neural network with our own images\n",
        "\n",
        "# record to test\n",
        "item = 5\n",
        "\n",
        "# plot image\n",
        "plt.imshow(our_own_dataset[item][1:].reshape(28,28), cmap='Greys', interpolation='None')\n",
        "\n",
        "# correct answer is first value\n",
        "correct_label = our_own_dataset[item][0]\n",
        "# data is remaining values\n",
        "inputs = our_own_dataset[item][1:]\n",
        "\n",
        "# query the network\n",
        "outputs = n.query(inputs)\n",
        "print (outputs)\n",
        "\n",
        "# the index of the highest value corresponds to the label\n",
        "label = np.argmax(outputs)\n",
        "print(\"network says \", label)\n",
        "# append correct or incorrect to list\n",
        "if (label == correct_label):\n",
        "    print (\"match!\")\n",
        "else:\n",
        "    print (\"no match!\")\n",
        "    pass"
      ],
      "metadata": {
        "colab": {
          "base_uri": "https://localhost:8080/",
          "height": 469
        },
        "id": "GPxexaUJASfx",
        "outputId": "4e28603e-dd79-429c-994c-e3808c26bd1d"
      },
      "execution_count": 13,
      "outputs": [
        {
          "output_type": "stream",
          "name": "stdout",
          "text": [
            "[[3.80536261e-03]\n",
            " [1.85350681e-03]\n",
            " [7.15126645e-04]\n",
            " [3.70855917e-04]\n",
            " [4.72080741e-04]\n",
            " [1.07598320e-02]\n",
            " [3.46147799e-04]\n",
            " [9.56108271e-01]\n",
            " [7.80638836e-05]\n",
            " [4.10858461e-03]]\n",
            "network says  7\n",
            "match!\n"
          ]
        },
        {
          "output_type": "display_data",
          "data": {
            "text/plain": [
              "<Figure size 432x288 with 1 Axes>"
            ],
            "image/png": "[encoded data removed]"
          },
          "metadata": {
            "needs_background": "light"
          }
        }
      ]
    },
    {
      "cell_type": "code",
      "source": [
        "# test the neural network with our own images\n",
        "\n",
        "# record to test\n",
        "item = 6\n",
        "\n",
        "# plot image\n",
        "plt.imshow(our_own_dataset[item][1:].reshape(28,28), cmap='Greys', interpolation='None')\n",
        "\n",
        "# correct answer is first value\n",
        "correct_label = our_own_dataset[item][0]\n",
        "# data is remaining values\n",
        "inputs = our_own_dataset[item][1:]\n",
        "\n",
        "# query the network\n",
        "outputs = n.query(inputs)\n",
        "print (outputs)\n",
        "\n",
        "# the index of the highest value corresponds to the label\n",
        "label = np.argmax(outputs)\n",
        "print(\"network says \", label)\n",
        "# append correct or incorrect to list\n",
        "if (label == correct_label):\n",
        "    print (\"match!\")\n",
        "else:\n",
        "    print (\"no match!\")\n",
        "    pass"
      ],
      "metadata": {
        "colab": {
          "base_uri": "https://localhost:8080/",
          "height": 469
        },
        "id": "0oeN27J_AUpj",
        "outputId": "4a48d8be-57d2-4a33-fafc-99981d90f42a"
      },
      "execution_count": 14,
      "outputs": [
        {
          "output_type": "stream",
          "name": "stdout",
          "text": [
            "[[3.38787419e-09]\n",
            " [1.47375069e-09]\n",
            " [1.37552420e-07]\n",
            " [1.00011574e-11]\n",
            " [4.26062053e-11]\n",
            " [7.93643667e-02]\n",
            " [3.71422925e-11]\n",
            " [8.93272816e-07]\n",
            " [5.47244624e-18]\n",
            " [2.76289432e-15]]\n",
            "network says  5\n",
            "no match!\n"
          ]
        },
        {
          "output_type": "display_data",
          "data": {
            "text/plain": [
              "<Figure size 432x288 with 1 Axes>"
            ],
            "image/png": "[encoded data removed]"
          },
          "metadata": {
            "needs_background": "light"
          }
        }
      ]
    },
    {
      "cell_type": "code",
      "source": [
        ""
      ],
      "metadata": {
        "id": "swlmHnyZAWf2"
      },
      "execution_count": null,
      "outputs": []
    }
  ]
}